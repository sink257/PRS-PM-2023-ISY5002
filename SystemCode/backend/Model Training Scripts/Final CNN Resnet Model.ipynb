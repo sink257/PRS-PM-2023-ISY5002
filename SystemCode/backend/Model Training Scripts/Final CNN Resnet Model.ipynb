{
 "cells": [
  {
   "cell_type": "code",
   "execution_count": 1,
   "id": "6eea186f-e22d-4153-9f65-c2565d705041",
   "metadata": {},
   "outputs": [],
   "source": [
    "import numpy as np\n",
    "import pandas as pd\n",
    "import matplotlib.pyplot as plt\n",
    "import seaborn as sns\n",
    "import os\n",
    "\n",
    "import tensorflow as tf\n",
    "from tensorflow.keras import layers, models\n",
    "from tensorflow.keras.callbacks import ModelCheckpoint\n",
    "from tensorflow.keras.preprocessing.image import ImageDataGenerator\n",
    "\n",
    "# image libraries\n",
    "import cv2"
   ]
  },
  {
   "cell_type": "code",
   "execution_count": 2,
   "id": "e7fd77b8-b13e-4185-ada6-580631b96f84",
   "metadata": {},
   "outputs": [
    {
     "name": "stdout",
     "output_type": "stream",
     "text": [
      "Found 882752 images belonging to 2 classes.\n",
      "Found 220694 images belonging to 2 classes.\n"
     ]
    }
   ],
   "source": [
    "# directories\n",
    "# train_img_path = '/kaggle/input/cifake-real-and-ai-generated-synthetic-images/train'\n",
    "# test_img_path = '/kaggle/input/cifake-real-and-ai-generated-synthetic-images/test'\n",
    "\n",
    "train_img_path = 'artifact/train'\n",
    "test_img_path = 'artifact/test'\n",
    "\n",
    "w,h = 200,200\n",
    "batch_size = 32\n",
    "\n",
    "train_data_gen = ImageDataGenerator(\n",
    "    rescale = 1.0/255,\n",
    "    horizontal_flip = True,\n",
    "    rotation_range = 20,\n",
    "    zoom_range=0.2\n",
    ")\n",
    "\n",
    "test_data_gen = ImageDataGenerator(rescale = 1.0/255)\n",
    "\n",
    "train_Dataset = train_data_gen.flow_from_directory(\n",
    "    train_img_path,\n",
    "    target_size = (w,h),\n",
    "    batch_size = batch_size,\n",
    "    class_mode = 'binary',\n",
    "    shuffle = True\n",
    ")\n",
    "\n",
    "test_Dataset = test_data_gen.flow_from_directory(\n",
    "    test_img_path,\n",
    "    target_size = (w,h),\n",
    "    batch_size = batch_size,\n",
    "    class_mode = 'binary',\n",
    "    shuffle = False\n",
    ")"
   ]
  },
  {
   "cell_type": "code",
   "execution_count": 3,
   "id": "2c3dd711-366a-4f88-9550-cb85694298ba",
   "metadata": {},
   "outputs": [
    {
     "data": {
      "text/plain": [
       "{'FAKE': 0, 'REAL': 1}"
      ]
     },
     "execution_count": 3,
     "metadata": {},
     "output_type": "execute_result"
    }
   ],
   "source": [
    "train_Dataset.class_indices"
   ]
  },
  {
   "cell_type": "code",
   "execution_count": 4,
   "id": "0b59cc1c-957a-423f-8066-c61d2ebb5670",
   "metadata": {},
   "outputs": [
    {
     "data": {
      "text/plain": [
       "[PhysicalDevice(name='/physical_device:GPU:0', device_type='GPU')]"
      ]
     },
     "execution_count": 4,
     "metadata": {},
     "output_type": "execute_result"
    }
   ],
   "source": [
    "tf.config.list_physical_devices('GPU')"
   ]
  },
  {
   "cell_type": "code",
   "execution_count": 5,
   "id": "adcc6083-fcb6-4e7f-9eec-5167ae2ad79e",
   "metadata": {},
   "outputs": [],
   "source": [
    "from tensorflow.keras.applications import ResNet50\n",
    "from tensorflow.keras.models import Sequential\n",
    "from tensorflow.keras.layers import Dense, GlobalAveragePooling2D\n",
    "\n",
    "# Load pre-trained ResNet50 model without the top (classification) layer\n",
    "base_model = ResNet50(weights='imagenet', include_top=False, input_shape=(200, 200, 3))\n",
    "\n",
    "# Create a new model on top\n",
    "model = Sequential([\n",
    "    base_model,\n",
    "    GlobalAveragePooling2D(),\n",
    "    Dense(256, activation='relu'),\n",
    "    Dense(1, activation='sigmoid')  # Output layer with 1 neuron (binary classification)\n",
    "])\n",
    "\n",
    "# Freeze the base model layers \n",
    "for layer in base_model.layers:\n",
    "    layer.trainable = False\n",
    "\n",
    "# Compile the model\n",
    "model.compile(optimizer='adam', loss='binary_crossentropy', metrics=['accuracy'])"
   ]
  },
  {
   "cell_type": "code",
   "execution_count": 6,
   "id": "ec71936d-a853-43a8-80bf-0e103adecac0",
   "metadata": {},
   "outputs": [
    {
     "name": "stdout",
     "output_type": "stream",
     "text": [
      "6897/6897 [==============================] - 270s 38ms/step\n",
      "Accuracy: 64.72%\n"
     ]
    }
   ],
   "source": [
    "# load best weights to model\n",
    "model.load_weights('./checkpoints/my_checkpoint_resnet_databal_dataaug_20epoch')\n",
    "from sklearn.metrics import accuracy_score\n",
    "\n",
    "# make prediction\n",
    "predictions = model.predict(test_Dataset)\n",
    "binary_predictions = (predictions > 0.5).astype(int)\n",
    "\n",
    "accuracy = accuracy_score(test_Dataset.classes, binary_predictions)\n",
    "print(f'Accuracy: {accuracy*100:.2f}%')\n"
   ]
  },
  {
   "cell_type": "code",
   "execution_count": 11,
   "id": "d81c3f6e-7e9d-4596-9477-6bd208b8fa7a",
   "metadata": {},
   "outputs": [
    {
     "name": "stdout",
     "output_type": "stream",
     "text": [
      "              precision    recall  f1-score   support\n",
      "\n",
      "           0       0.57      0.61      0.59     90962\n",
      "           1       0.71      0.67      0.69    129732\n",
      "\n",
      "    accuracy                           0.65    220694\n",
      "   macro avg       0.64      0.64      0.64    220694\n",
      "weighted avg       0.65      0.65      0.65    220694\n",
      "\n",
      "[[55852 35110]\n",
      " [42750 86982]]\n"
     ]
    }
   ],
   "source": [
    "from sklearn.metrics import confusion_matrix, classification_report\n",
    "\n",
    "# Assuming you have true labels (ground truth)\n",
    "true_labels = test_Dataset.classes\n",
    "\n",
    "# Generate a confusion matrix\n",
    "# sns.heatmap(confusion_matrix(true_labels, binary_predictions), annot=True)\n",
    "\n",
    "# Print classification report\n",
    "print(classification_report(true_labels, binary_predictions))\n",
    "\n",
    "conf_matrix = confusion_matrix(true_labels, binary_predictions)\n",
    "print(conf_matrix)\n",
    "\n",
    "# plt.title('Confusion Matrix')\n",
    "# plt.xlabel('Predicted')\n",
    "# plt.ylabel('Actual Classes')\n",
    "# plt.show()"
   ]
  },
  {
   "cell_type": "code",
   "execution_count": null,
   "id": "a1e960e5-0b00-4ba0-97fd-80746db792a7",
   "metadata": {},
   "outputs": [],
   "source": []
  }
 ],
 "metadata": {
  "kernelspec": {
   "display_name": "Python 3 (ipykernel)",
   "language": "python",
   "name": "python3"
  },
  "language_info": {
   "codemirror_mode": {
    "name": "ipython",
    "version": 3
   },
   "file_extension": ".py",
   "mimetype": "text/x-python",
   "name": "python",
   "nbconvert_exporter": "python",
   "pygments_lexer": "ipython3",
   "version": "3.9.18"
  }
 },
 "nbformat": 4,
 "nbformat_minor": 5
}
